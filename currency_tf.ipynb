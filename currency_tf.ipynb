{
  "nbformat": 4,
  "nbformat_minor": 0,
  "metadata": {
    "colab": {
      "provenance": [],
      "gpuType": "T4"
    },
    "kernelspec": {
      "name": "python3",
      "display_name": "Python 3"
    },
    "language_info": {
      "name": "python"
    },
    "accelerator": "GPU"
  },
  "cells": [
    {
      "cell_type": "code",
      "execution_count": null,
      "metadata": {
        "id": "SWf1eNx2qXnN"
      },
      "outputs": [],
      "source": [
        "import numpy as np\n",
        "import pandas as pd\n",
        "import matplotlib.pyplot as plt\n",
        "import tensorflow as tf\n",
        "from pathlib import Path\n",
        "from tensorflow.keras.preprocessing.image import load_img, img_to_array\n",
        "from google.colab import drive"
      ]
    },
    {
      "cell_type": "code",
      "source": [
        "print(tf.__version__)"
      ],
      "metadata": {
        "colab": {
          "base_uri": "https://localhost:8080/"
        },
        "id": "0TKzE7sGqx1s",
        "outputId": "3c4129d1-0f9b-41aa-dd11-435d111275dd"
      },
      "execution_count": null,
      "outputs": [
        {
          "output_type": "stream",
          "name": "stdout",
          "text": [
            "2.18.0\n"
          ]
        }
      ]
    },
    {
      "cell_type": "code",
      "source": [
        "drive.mount('/content/drive')"
      ],
      "metadata": {
        "colab": {
          "base_uri": "https://localhost:8080/"
        },
        "id": "7aUmm1akq8BY",
        "outputId": "aed9f5d3-714f-40e6-8bfc-0e555d9c2ea9"
      },
      "execution_count": null,
      "outputs": [
        {
          "output_type": "stream",
          "name": "stdout",
          "text": [
            "Mounted at /content/drive\n"
          ]
        }
      ]
    },
    {
      "cell_type": "code",
      "source": [
        "train_dir = Path('/content/drive/MyDrive/textualdataset/train')\n",
        "train_filepaths = list(train_dir.glob(r'**/*.jpg'))"
      ],
      "metadata": {
        "id": "L8HCrtzSrQ7d"
      },
      "execution_count": null,
      "outputs": []
    },
    {
      "cell_type": "code",
      "source": [
        "test_dir = Path('/content/drive/MyDrive/textualdataset/test')\n",
        "test_filepaths = list(test_dir.glob(r'**/*.jpg'))"
      ],
      "metadata": {
        "id": "t5HapPXPrhs7"
      },
      "execution_count": null,
      "outputs": []
    },
    {
      "cell_type": "code",
      "source": [
        "val_dir = Path('/content/drive/MyDrive/textualdataset/validation')\n",
        "val_filepaths = list(val_dir.glob(r'**/*.jpg'))"
      ],
      "metadata": {
        "id": "g0hOhgbPrub8"
      },
      "execution_count": null,
      "outputs": []
    },
    {
      "cell_type": "code",
      "source": [
        "# Image processing function to create DataFrame with filepaths and labels\n",
        "def image_processing(filepath):\n",
        "    labels = [str(filepath[i]).split(\"/\")[-2] for i in range(len(filepath))]\n",
        "    filepath = pd.Series(filepath, name='Filepath').astype(str)\n",
        "    labels = pd.Series(labels, name='Label')\n",
        "\n",
        "    df = pd.concat([filepath, labels], axis=1)\n",
        "    df = df[df['Label'] != 'train']  # Remove 'train' label\n",
        "    df = df.sample(frac=1).reset_index(drop=True)\n",
        "    return df"
      ],
      "metadata": {
        "id": "4r4v7Jo5r7mT"
      },
      "execution_count": null,
      "outputs": []
    },
    {
      "cell_type": "code",
      "source": [
        "# Process the datasets\n",
        "train_df = image_processing(train_filepaths)\n",
        "test_df = image_processing(test_filepaths)\n",
        "val_df = image_processing(val_filepaths)"
      ],
      "metadata": {
        "id": "NaEzDoR6sAgF"
      },
      "execution_count": null,
      "outputs": []
    },
    {
      "cell_type": "code",
      "source": [
        "# Display dataset details\n",
        "print('-- Training set --\\n')\n",
        "print(f'Number of pictures: {train_df.shape[0]}\\n')\n",
        "print(f'Number of different labels: {len(train_df.Label.unique())}\\n')\n",
        "print(f'Labels: {train_df.Label.unique()}')"
      ],
      "metadata": {
        "colab": {
          "base_uri": "https://localhost:8080/"
        },
        "id": "xv3rYGh9sLrb",
        "outputId": "a8b5ee90-c188-42b3-e588-87b09ae9b5bc"
      },
      "execution_count": null,
      "outputs": [
        {
          "output_type": "stream",
          "name": "stdout",
          "text": [
            "-- Training set --\n",
            "\n",
            "Number of pictures: 848\n",
            "\n",
            "Number of different labels: 7\n",
            "\n",
            "Labels: ['i am a university student' 'my name is esha' 'bottle' 'my name is faraz'\n",
            " 'fire' 'shop' 'my name is sherry']\n"
          ]
        }
      ]
    },
    {
      "cell_type": "code",
      "source": [
        "# Create a DataFrame with unique labels for visualization\n",
        "df_unique = train_df.copy().drop_duplicates(subset=[\"Label\"]).reset_index()"
      ],
      "metadata": {
        "id": "oYZheNcNsR1s"
      },
      "execution_count": null,
      "outputs": []
    },
    {
      "cell_type": "code",
      "source": [
        "# Display sample images\n",
        "fig, axes = plt.subplots(nrows=6, ncols=6, figsize=(8, 7), subplot_kw={'xticks': [], 'yticks': []})\n",
        "for i, ax in enumerate(axes.flat):\n",
        "    # Check if the index 'i' is within the bounds of the DataFrame\n",
        "    if i < len(df_unique):\n",
        "        ax.imshow(plt.imread(df_unique.Filepath[i]))\n",
        "        ax.set_title(df_unique.Label[i], fontsize=12)\n",
        "    else:\n",
        "        # If index is out of bounds, break the loop to avoid the error\n",
        "        break\n",
        "plt.tight_layout(pad=0.5)\n",
        "plt.show()"
      ],
      "metadata": {
        "colab": {
          "base_uri": "https://localhost:8080/",
          "height": 723
        },
        "id": "CgFjTOPMsV_j",
        "outputId": "46d40485-c34d-4c8b-c9cf-85f335143ee0"
      },
      "execution_count": null,
      "outputs": [
        {
          "output_type": "display_data",
          "data": {
            "text/plain": [
              "<Figure size 800x700 with 36 Axes>"
            ],
            "image/png": "[encoded data removed]"
          },
          "metadata": {}
        }
      ]
    },
    {
      "cell_type": "code",
      "source": [
        "train_generator = tf.keras.preprocessing.image.ImageDataGenerator(\n",
        "    preprocessing_function=tf.keras.applications.mobilenet_v2.preprocess_input,\n",
        "    rotation_range=30,\n",
        "    zoom_range=0.15,\n",
        "    width_shift_range=0.2,\n",
        "    height_shift_range=0.2,\n",
        "    shear_range=0.15,\n",
        "    horizontal_flip=True,\n",
        "    fill_mode=\"nearest\"\n",
        ")"
      ],
      "metadata": {
        "id": "2aKIjGYtuV33"
      },
      "execution_count": null,
      "outputs": []
    },
    {
      "cell_type": "code",
      "source": [
        "test_generator = tf.keras.preprocessing.image.ImageDataGenerator(\n",
        "    preprocessing_function=tf.keras.applications.mobilenet_v2.preprocess_input\n",
        ")"
      ],
      "metadata": {
        "id": "OVrJwBJbuZ1r"
      },
      "execution_count": null,
      "outputs": []
    },
    {
      "cell_type": "code",
      "source": [
        "# Create image generators\n",
        "train_images = train_generator.flow_from_dataframe(\n",
        "    dataframe=train_df,\n",
        "    x_col='Filepath',\n",
        "    y_col='Label',\n",
        "    target_size=(224, 224),\n",
        "    color_mode='rgb',\n",
        "    class_mode='categorical',\n",
        "    batch_size=32,\n",
        "    shuffle=True,\n",
        "    seed=0\n",
        ")"
      ],
      "metadata": {
        "colab": {
          "base_uri": "https://localhost:8080/"
        },
        "id": "sKvCiZ1ougFL",
        "outputId": "0dc8657f-9b67-4a99-d2a7-f2f08b09630a"
      },
      "execution_count": null,
      "outputs": [
        {
          "output_type": "stream",
          "name": "stdout",
          "text": [
            "Found 848 validated image filenames belonging to 7 classes.\n"
          ]
        }
      ]
    },
    {
      "cell_type": "code",
      "source": [
        "val_images = train_generator.flow_from_dataframe(\n",
        "    dataframe=val_df,\n",
        "    x_col='Filepath',\n",
        "    y_col='Label',\n",
        "    target_size=(224, 224),\n",
        "    color_mode='rgb',\n",
        "    class_mode='categorical',\n",
        "    batch_size=32,\n",
        "    shuffle=True,\n",
        "    seed=0\n",
        ")"
      ],
      "metadata": {
        "colab": {
          "base_uri": "https://localhost:8080/"
        },
        "id": "40GxcF8jukTq",
        "outputId": "5c8fb0ec-4107-4dcc-aeb4-d5949c40386b"
      },
      "execution_count": null,
      "outputs": [
        {
          "output_type": "stream",
          "name": "stdout",
          "text": [
            "Found 389 validated image filenames belonging to 7 classes.\n"
          ]
        }
      ]
    },
    {
      "cell_type": "code",
      "source": [
        "test_images = test_generator.flow_from_dataframe(\n",
        "    dataframe=test_df,\n",
        "    x_col='Filepath',\n",
        "    y_col='Label',\n",
        "    target_size=(224, 224),\n",
        "    color_mode='rgb',\n",
        "    class_mode='categorical',\n",
        "    batch_size=32,\n",
        "    shuffle=False\n",
        ")"
      ],
      "metadata": {
        "colab": {
          "base_uri": "https://localhost:8080/"
        },
        "id": "uRS6eyqoup2_",
        "outputId": "bc1c5bf6-0309-475f-8e01-fff0d3ad6db3"
      },
      "execution_count": null,
      "outputs": [
        {
          "output_type": "stream",
          "name": "stdout",
          "text": [
            "Found 477 validated image filenames belonging to 7 classes.\n"
          ]
        }
      ]
    },
    {
      "cell_type": "code",
      "source": [
        "# Model setup with fine-tuning and additional layers\n",
        "num_classes = len(train_df.Label.unique())\n",
        "pretrained_model = tf.keras.applications.MobileNetV2(\n",
        "    input_shape=(224, 224, 3),\n",
        "    include_top=False,\n",
        "    weights='imagenet',\n",
        "    pooling='avg'\n",
        ")\n"
      ],
      "metadata": {
        "colab": {
          "base_uri": "https://localhost:8080/"
        },
        "id": "Hh0LOTVwuvBp",
        "outputId": "43c05820-c239-4408-dadb-15416c584050"
      },
      "execution_count": null,
      "outputs": [
        {
          "output_type": "stream",
          "name": "stdout",
          "text": [
            "Downloading data from https://storage.googleapis.com/tensorflow/keras-applications/mobilenet_v2/mobilenet_v2_weights_tf_dim_ordering_tf_kernels_1.0_224_no_top.h5\n",
            "\u001b[1m9406464/9406464\u001b[0m \u001b[32m━━━━━━━━━━━━━━━━━━━━\u001b[0m\u001b[37m\u001b[0m \u001b[1m0s\u001b[0m 0us/step\n"
          ]
        }
      ]
    },
    {
      "cell_type": "code",
      "source": [
        "pretrained_model.trainable = True\n",
        "for layer in pretrained_model.layers[:-20]:  # Freeze all layers except the last 20\n",
        "    layer.trainable = False"
      ],
      "metadata": {
        "id": "ZEIZmmIAvBDl"
      },
      "execution_count": null,
      "outputs": []
    },
    {
      "cell_type": "code",
      "source": [
        "inputs = pretrained_model.input\n",
        "x = tf.keras.layers.Dense(512, activation='relu')(pretrained_model.output)  # Increased dense layer size\n",
        "x = tf.keras.layers.Dropout(0.5)(x)  # Add dropout to reduce overfitting\n",
        "x = tf.keras.layers.Dense(512, activation='relu')(x)  # Increased dense layer size\n",
        "outputs = tf.keras.layers.Dense(num_classes, activation='softmax')(x)\n",
        "\n",
        "model = tf.keras.Model(inputs=inputs, outputs=outputs)\n"
      ],
      "metadata": {
        "id": "SUpAxJWSvBB9"
      },
      "execution_count": null,
      "outputs": []
    },
    {
      "cell_type": "code",
      "source": [
        "# Compile the model\n",
        "model.compile(\n",
        "    optimizer=tf.keras.optimizers.Adam(learning_rate=1e-4),  # Lower learning rate\n",
        "    loss='categorical_crossentropy',\n",
        "    metrics=['accuracy']\n",
        ")"
      ],
      "metadata": {
        "id": "zcQA_JWAvOIB"
      },
      "execution_count": null,
      "outputs": []
    },
    {
      "cell_type": "code",
      "source": [
        "# Model training with EarlyStopping and Learning Rate Scheduling\n",
        "callbacks = [\n",
        "    tf.keras.callbacks.EarlyStopping(monitor='val_loss', patience=3, restore_best_weights=True),\n",
        "    tf.keras.callbacks.ReduceLROnPlateau(monitor='val_loss', factor=0.1, patience=2)\n",
        "]"
      ],
      "metadata": {
        "id": "07Dq62MavTtD"
      },
      "execution_count": null,
      "outputs": []
    },
    {
      "cell_type": "code",
      "source": [
        "# Train the model\n",
        "history = model.fit(\n",
        "    train_images,\n",
        "    validation_data=val_images,\n",
        "    epochs=15,  # Increased epochs for better training\n",
        "    batch_size=32,\n",
        "    callbacks=callbacks\n",
        ")"
      ],
      "metadata": {
        "colab": {
          "base_uri": "https://localhost:8080/"
        },
        "id": "pvY7HRZivYXi",
        "outputId": "dec1bcfc-514d-43c7-88d4-9c23141ae22c"
      },
      "execution_count": null,
      "outputs": [
        {
          "output_type": "stream",
          "name": "stderr",
          "text": [
            "/usr/local/lib/python3.11/dist-packages/keras/src/trainers/data_adapters/py_dataset_adapter.py:121: UserWarning: Your `PyDataset` class should call `super().__init__(**kwargs)` in its constructor. `**kwargs` can include `workers`, `use_multiprocessing`, `max_queue_size`. Do not pass these arguments to `fit()`, as they will be ignored.\n",
            "  self._warn_if_super_not_called()\n"
          ]
        },
        {
          "output_type": "stream",
          "name": "stdout",
          "text": [
            "Epoch 1/15\n",
            "\u001b[1m27/27\u001b[0m \u001b[32m━━━━━━━━━━━━━━━━━━━━\u001b[0m\u001b[37m\u001b[0m \u001b[1m373s\u001b[0m 13s/step - accuracy: 0.2181 - loss: 1.9040 - val_accuracy: 0.3625 - val_loss: 1.6965 - learning_rate: 1.0000e-04\n",
            "Epoch 2/15\n",
            "\u001b[1m27/27\u001b[0m \u001b[32m━━━━━━━━━━━━━━━━━━━━\u001b[0m\u001b[37m\u001b[0m \u001b[1m24s\u001b[0m 901ms/step - accuracy: 0.5829 - loss: 1.2913 - val_accuracy: 0.4370 - val_loss: 1.3850 - learning_rate: 1.0000e-04\n",
            "Epoch 3/15\n",
            "\u001b[1m27/27\u001b[0m \u001b[32m━━━━━━━━━━━━━━━━━━━━\u001b[0m\u001b[37m\u001b[0m \u001b[1m19s\u001b[0m 720ms/step - accuracy: 0.7069 - loss: 0.8851 - val_accuracy: 0.4679 - val_loss: 1.2162 - learning_rate: 1.0000e-04\n",
            "Epoch 4/15\n",
            "\u001b[1m27/27\u001b[0m \u001b[32m━━━━━━━━━━━━━━━━━━━━\u001b[0m\u001b[37m\u001b[0m \u001b[1m21s\u001b[0m 775ms/step - accuracy: 0.7921 - loss: 0.6016 - val_accuracy: 0.4499 - val_loss: 1.4153 - learning_rate: 1.0000e-04\n",
            "Epoch 5/15\n",
            "\u001b[1m27/27\u001b[0m \u001b[32m━━━━━━━━━━━━━━━━━━━━\u001b[0m\u001b[37m\u001b[0m \u001b[1m19s\u001b[0m 713ms/step - accuracy: 0.8155 - loss: 0.4923 - val_accuracy: 0.4833 - val_loss: 1.2107 - learning_rate: 1.0000e-04\n",
            "Epoch 6/15\n",
            "\u001b[1m27/27\u001b[0m \u001b[32m━━━━━━━━━━━━━━━━━━━━\u001b[0m\u001b[37m\u001b[0m \u001b[1m19s\u001b[0m 730ms/step - accuracy: 0.8729 - loss: 0.3650 - val_accuracy: 0.6041 - val_loss: 0.9810 - learning_rate: 1.0000e-04\n",
            "Epoch 7/15\n",
            "\u001b[1m27/27\u001b[0m \u001b[32m━━━━━━━━━━━━━━━━━━━━\u001b[0m\u001b[37m\u001b[0m \u001b[1m20s\u001b[0m 742ms/step - accuracy: 0.8504 - loss: 0.3760 - val_accuracy: 0.6350 - val_loss: 0.9287 - learning_rate: 1.0000e-04\n",
            "Epoch 8/15\n",
            "\u001b[1m27/27\u001b[0m \u001b[32m━━━━━━━━━━━━━━━━━━━━\u001b[0m\u001b[37m\u001b[0m \u001b[1m19s\u001b[0m 713ms/step - accuracy: 0.8805 - loss: 0.3021 - val_accuracy: 0.6632 - val_loss: 1.0025 - learning_rate: 1.0000e-04\n",
            "Epoch 9/15\n",
            "\u001b[1m27/27\u001b[0m \u001b[32m━━━━━━━━━━━━━━━━━━━━\u001b[0m\u001b[37m\u001b[0m \u001b[1m21s\u001b[0m 776ms/step - accuracy: 0.9271 - loss: 0.2197 - val_accuracy: 0.6915 - val_loss: 0.8526 - learning_rate: 1.0000e-04\n",
            "Epoch 10/15\n",
            "\u001b[1m27/27\u001b[0m \u001b[32m━━━━━━━━━━━━━━━━━━━━\u001b[0m\u001b[37m\u001b[0m \u001b[1m19s\u001b[0m 719ms/step - accuracy: 0.9488 - loss: 0.1684 - val_accuracy: 0.6555 - val_loss: 0.9292 - learning_rate: 1.0000e-04\n",
            "Epoch 11/15\n",
            "\u001b[1m27/27\u001b[0m \u001b[32m━━━━━━━━━━━━━━━━━━━━\u001b[0m\u001b[37m\u001b[0m \u001b[1m20s\u001b[0m 739ms/step - accuracy: 0.9481 - loss: 0.1648 - val_accuracy: 0.5810 - val_loss: 1.2663 - learning_rate: 1.0000e-04\n",
            "Epoch 12/15\n",
            "\u001b[1m27/27\u001b[0m \u001b[32m━━━━━━━━━━━━━━━━━━━━\u001b[0m\u001b[37m\u001b[0m \u001b[1m20s\u001b[0m 722ms/step - accuracy: 0.9634 - loss: 0.1149 - val_accuracy: 0.5938 - val_loss: 1.1853 - learning_rate: 1.0000e-05\n"
          ]
        }
      ]
    },
    {
      "cell_type": "code",
      "source": [
        "# Plot training and validation accuracy\n",
        "plt.plot(history.history['accuracy'], label='Training Accuracy')\n",
        "plt.plot(history.history['val_accuracy'], label='Validation Accuracy')\n",
        "plt.xlabel('Epochs')\n",
        "plt.ylabel('Accuracy')\n",
        "plt.legend()\n",
        "plt.title('Training and Validation Accuracy')\n",
        "plt.show()"
      ],
      "metadata": {
        "colab": {
          "base_uri": "https://localhost:8080/",
          "height": 472
        },
        "id": "CPzDw6dvyLqN",
        "outputId": "92a9caf1-6768-491a-b787-013751b61a5d"
      },
      "execution_count": null,
      "outputs": [
        {
          "output_type": "display_data",
          "data": {
            "text/plain": [
              "<Figure size 640x480 with 1 Axes>"
            ],
            "image/png": "[encoded data removed]"
          },
          "metadata": {}
        }
      ]
    },
    {
      "cell_type": "code",
      "source": [
        "# Print final accuracy\n",
        "print(f\"Final Training Accuracy: {history.history['accuracy'][-1]}\")\n",
        "print(f\"Final Validation Accuracy: {history.history['val_accuracy'][-1]}\")\n"
      ],
      "metadata": {
        "colab": {
          "base_uri": "https://localhost:8080/"
        },
        "id": "_K_38ynayVB8",
        "outputId": "0fc17b7a-67a1-4248-b760-610a6b50ed7d"
      },
      "execution_count": null,
      "outputs": [
        {
          "output_type": "stream",
          "name": "stdout",
          "text": [
            "Final Training Accuracy: 0.9669811129570007\n",
            "Final Validation Accuracy: 0.5938303470611572\n"
          ]
        }
      ]
    },
    {
      "cell_type": "code",
      "source": [
        "# Predict the label of the test_images\n",
        "pred = model.predict(test_images)\n",
        "pred = np.argmax(pred,axis=1)\n",
        "# Map the label\n",
        "labels = (train_images.class_indices)\n",
        "labels = dict((v,k) for k,v in labels.items())\n",
        "pred1 = [labels[k] for k in pred]\n",
        "pred1"
      ],
      "metadata": {
        "colab": {
          "base_uri": "https://localhost:8080/"
        },
        "id": "AmWBZd8byg1t",
        "outputId": "2dd5a2fc-e18d-4a79-8fa4-a808d2172d1a"
      },
      "execution_count": null,
      "outputs": [
        {
          "output_type": "stream",
          "name": "stdout",
          "text": [
            "\u001b[1m15/15\u001b[0m \u001b[32m━━━━━━━━━━━━━━━━━━━━\u001b[0m\u001b[37m\u001b[0m \u001b[1m118s\u001b[0m 8s/step\n"
          ]
        },
        {
          "output_type": "execute_result",
          "data": {
            "text/plain": [
              "['my name is sherry',\n",
              " 'shop',\n",
              " 'i am a university student',\n",
              " 'bottle',\n",
              " 'bottle',\n",
              " 'shop',\n",
              " 'my name is faraz',\n",
              " 'my name is faraz',\n",
              " 'my name is faraz',\n",
              " 'my name is esha',\n",
              " 'my name is sherry',\n",
              " 'i am a university student',\n",
              " 'my name is sherry',\n",
              " 'bottle',\n",
              " 'bottle',\n",
              " 'i am a university student',\n",
              " 'bottle',\n",
              " 'my name is sherry',\n",
              " 'my name is sherry',\n",
              " 'fire',\n",
              " 'bottle',\n",
              " 'bottle',\n",
              " 'shop',\n",
              " 'my name is esha',\n",
              " 'my name is esha',\n",
              " 'shop',\n",
              " 'bottle',\n",
              " 'my name is faraz',\n",
              " 'bottle',\n",
              " 'my name is faraz',\n",
              " 'shop',\n",
              " 'shop',\n",
              " 'my name is faraz',\n",
              " 'bottle',\n",
              " 'bottle',\n",
              " 'i am a university student',\n",
              " 'shop',\n",
              " 'my name is faraz',\n",
              " 'my name is faraz',\n",
              " 'i am a university student',\n",
              " 'my name is esha',\n",
              " 'my name is faraz',\n",
              " 'my name is sherry',\n",
              " 'i am a university student',\n",
              " 'bottle',\n",
              " 'my name is sherry',\n",
              " 'my name is sherry',\n",
              " 'my name is faraz',\n",
              " 'my name is sherry',\n",
              " 'bottle',\n",
              " 'bottle',\n",
              " 'shop',\n",
              " 'bottle',\n",
              " 'i am a university student',\n",
              " 'my name is faraz',\n",
              " 'i am a university student',\n",
              " 'bottle',\n",
              " 'shop',\n",
              " 'my name is sherry',\n",
              " 'bottle',\n",
              " 'fire',\n",
              " 'my name is faraz',\n",
              " 'my name is faraz',\n",
              " 'bottle',\n",
              " 'my name is sherry',\n",
              " 'i am a university student',\n",
              " 'my name is esha',\n",
              " 'fire',\n",
              " 'my name is sherry',\n",
              " 'bottle',\n",
              " 'i am a university student',\n",
              " 'i am a university student',\n",
              " 'my name is faraz',\n",
              " 'my name is faraz',\n",
              " 'my name is faraz',\n",
              " 'bottle',\n",
              " 'i am a university student',\n",
              " 'i am a university student',\n",
              " 'i am a university student',\n",
              " 'my name is faraz',\n",
              " 'bottle',\n",
              " 'my name is sherry',\n",
              " 'bottle',\n",
              " 'my name is faraz',\n",
              " 'bottle',\n",
              " 'fire',\n",
              " 'fire',\n",
              " 'bottle',\n",
              " 'fire',\n",
              " 'shop',\n",
              " 'my name is sherry',\n",
              " 'shop',\n",
              " 'my name is faraz',\n",
              " 'bottle',\n",
              " 'my name is sherry',\n",
              " 'my name is faraz',\n",
              " 'my name is sherry',\n",
              " 'bottle',\n",
              " 'shop',\n",
              " 'shop',\n",
              " 'i am a university student',\n",
              " 'i am a university student',\n",
              " 'shop',\n",
              " 'bottle',\n",
              " 'my name is esha',\n",
              " 'my name is faraz',\n",
              " 'my name is faraz',\n",
              " 'my name is faraz',\n",
              " 'shop',\n",
              " 'shop',\n",
              " 'shop',\n",
              " 'my name is faraz',\n",
              " 'bottle',\n",
              " 'my name is faraz',\n",
              " 'bottle',\n",
              " 'fire',\n",
              " 'my name is sherry',\n",
              " 'bottle',\n",
              " 'bottle',\n",
              " 'fire',\n",
              " 'my name is sherry',\n",
              " 'my name is esha',\n",
              " 'i am a university student',\n",
              " 'i am a university student',\n",
              " 'my name is faraz',\n",
              " 'my name is faraz',\n",
              " 'my name is faraz',\n",
              " 'my name is faraz',\n",
              " 'bottle',\n",
              " 'my name is faraz',\n",
              " 'fire',\n",
              " 'my name is faraz',\n",
              " 'bottle',\n",
              " 'bottle',\n",
              " 'bottle',\n",
              " 'shop',\n",
              " 'bottle',\n",
              " 'my name is faraz',\n",
              " 'my name is faraz',\n",
              " 'i am a university student',\n",
              " 'shop',\n",
              " 'my name is sherry',\n",
              " 'my name is sherry',\n",
              " 'bottle',\n",
              " 'my name is faraz',\n",
              " 'fire',\n",
              " 'shop',\n",
              " 'my name is sherry',\n",
              " 'my name is esha',\n",
              " 'fire',\n",
              " 'shop',\n",
              " 'my name is faraz',\n",
              " 'my name is faraz',\n",
              " 'fire',\n",
              " 'my name is faraz',\n",
              " 'bottle',\n",
              " 'my name is sherry',\n",
              " 'bottle',\n",
              " 'my name is esha',\n",
              " 'fire',\n",
              " 'my name is faraz',\n",
              " 'i am a university student',\n",
              " 'bottle',\n",
              " 'my name is faraz',\n",
              " 'shop',\n",
              " 'my name is faraz',\n",
              " 'my name is faraz',\n",
              " 'i am a university student',\n",
              " 'my name is sherry',\n",
              " 'my name is faraz',\n",
              " 'my name is faraz',\n",
              " 'bottle',\n",
              " 'my name is sherry',\n",
              " 'my name is faraz',\n",
              " 'shop',\n",
              " 'my name is faraz',\n",
              " 'shop',\n",
              " 'my name is sherry',\n",
              " 'fire',\n",
              " 'i am a university student',\n",
              " 'i am a university student',\n",
              " 'bottle',\n",
              " 'my name is faraz',\n",
              " 'my name is sherry',\n",
              " 'shop',\n",
              " 'bottle',\n",
              " 'my name is sherry',\n",
              " 'my name is faraz',\n",
              " 'bottle',\n",
              " 'my name is faraz',\n",
              " 'my name is faraz',\n",
              " 'my name is faraz',\n",
              " 'fire',\n",
              " 'bottle',\n",
              " 'my name is sherry',\n",
              " 'bottle',\n",
              " 'shop',\n",
              " 'bottle',\n",
              " 'shop',\n",
              " 'my name is faraz',\n",
              " 'bottle',\n",
              " 'my name is sherry',\n",
              " 'my name is sherry',\n",
              " 'my name is sherry',\n",
              " 'i am a university student',\n",
              " 'my name is sherry',\n",
              " 'my name is faraz',\n",
              " 'shop',\n",
              " 'my name is faraz',\n",
              " 'my name is faraz',\n",
              " 'i am a university student',\n",
              " 'shop',\n",
              " 'bottle',\n",
              " 'i am a university student',\n",
              " 'i am a university student',\n",
              " 'bottle',\n",
              " 'i am a university student',\n",
              " 'i am a university student',\n",
              " 'my name is faraz',\n",
              " 'my name is sherry',\n",
              " 'fire',\n",
              " 'my name is faraz',\n",
              " 'fire',\n",
              " 'my name is sherry',\n",
              " 'shop',\n",
              " 'bottle',\n",
              " 'my name is esha',\n",
              " 'my name is faraz',\n",
              " 'bottle',\n",
              " 'i am a university student',\n",
              " 'bottle',\n",
              " 'i am a university student',\n",
              " 'my name is faraz',\n",
              " 'bottle',\n",
              " 'shop',\n",
              " 'bottle',\n",
              " 'i am a university student',\n",
              " 'bottle',\n",
              " 'i am a university student',\n",
              " 'my name is sherry',\n",
              " 'shop',\n",
              " 'my name is esha',\n",
              " 'my name is faraz',\n",
              " 'my name is sherry',\n",
              " 'my name is faraz',\n",
              " 'bottle',\n",
              " 'my name is faraz',\n",
              " 'fire',\n",
              " 'bottle',\n",
              " 'bottle',\n",
              " 'bottle',\n",
              " 'my name is faraz',\n",
              " 'my name is faraz',\n",
              " 'i am a university student',\n",
              " 'fire',\n",
              " 'bottle',\n",
              " 'shop',\n",
              " 'bottle',\n",
              " 'bottle',\n",
              " 'bottle',\n",
              " 'my name is faraz',\n",
              " 'my name is faraz',\n",
              " 'my name is faraz',\n",
              " 'my name is faraz',\n",
              " 'my name is faraz',\n",
              " 'i am a university student',\n",
              " 'i am a university student',\n",
              " 'shop',\n",
              " 'bottle',\n",
              " 'bottle',\n",
              " 'i am a university student',\n",
              " 'my name is faraz',\n",
              " 'i am a university student',\n",
              " 'i am a university student',\n",
              " 'my name is esha',\n",
              " 'my name is faraz',\n",
              " 'my name is sherry',\n",
              " 'my name is sherry',\n",
              " 'my name is faraz',\n",
              " 'i am a university student',\n",
              " 'my name is faraz',\n",
              " 'i am a university student',\n",
              " 'shop',\n",
              " 'shop',\n",
              " 'bottle',\n",
              " 'fire',\n",
              " 'my name is faraz',\n",
              " 'i am a university student',\n",
              " 'my name is faraz',\n",
              " 'shop',\n",
              " 'my name is faraz',\n",
              " 'i am a university student',\n",
              " 'my name is sherry',\n",
              " 'my name is faraz',\n",
              " 'my name is faraz',\n",
              " 'bottle',\n",
              " 'i am a university student',\n",
              " 'shop',\n",
              " 'fire',\n",
              " 'bottle',\n",
              " 'shop',\n",
              " 'my name is faraz',\n",
              " 'my name is sherry',\n",
              " 'my name is faraz',\n",
              " 'my name is faraz',\n",
              " 'my name is faraz',\n",
              " 'my name is sherry',\n",
              " 'my name is faraz',\n",
              " 'my name is faraz',\n",
              " 'fire',\n",
              " 'i am a university student',\n",
              " 'my name is faraz',\n",
              " 'shop',\n",
              " 'bottle',\n",
              " 'my name is faraz',\n",
              " 'my name is faraz',\n",
              " 'my name is faraz',\n",
              " 'my name is faraz',\n",
              " 'bottle',\n",
              " 'my name is esha',\n",
              " 'bottle',\n",
              " 'my name is faraz',\n",
              " 'bottle',\n",
              " 'i am a university student',\n",
              " 'my name is esha',\n",
              " 'shop',\n",
              " 'bottle',\n",
              " 'bottle',\n",
              " 'my name is sherry',\n",
              " 'bottle',\n",
              " 'bottle',\n",
              " 'shop',\n",
              " 'my name is sherry',\n",
              " 'i am a university student',\n",
              " 'i am a university student',\n",
              " 'fire',\n",
              " 'shop',\n",
              " 'fire',\n",
              " 'bottle',\n",
              " 'fire',\n",
              " 'i am a university student',\n",
              " 'my name is faraz',\n",
              " 'my name is faraz',\n",
              " 'i am a university student',\n",
              " 'my name is faraz',\n",
              " 'bottle',\n",
              " 'bottle',\n",
              " 'shop',\n",
              " 'my name is faraz',\n",
              " 'my name is faraz',\n",
              " 'i am a university student',\n",
              " 'bottle',\n",
              " 'my name is faraz',\n",
              " 'shop',\n",
              " 'my name is faraz',\n",
              " 'fire',\n",
              " 'my name is faraz',\n",
              " 'my name is faraz',\n",
              " 'i am a university student',\n",
              " 'my name is faraz',\n",
              " 'my name is faraz',\n",
              " 'shop',\n",
              " 'my name is faraz',\n",
              " 'i am a university student',\n",
              " 'fire',\n",
              " 'bottle',\n",
              " 'my name is faraz',\n",
              " 'shop',\n",
              " 'my name is sherry',\n",
              " 'my name is faraz',\n",
              " 'my name is faraz',\n",
              " 'bottle',\n",
              " 'shop',\n",
              " 'my name is sherry',\n",
              " 'shop',\n",
              " 'i am a university student',\n",
              " 'bottle',\n",
              " 'my name is sherry',\n",
              " 'my name is sherry',\n",
              " 'i am a university student',\n",
              " 'my name is sherry',\n",
              " 'my name is faraz',\n",
              " 'bottle',\n",
              " 'bottle',\n",
              " 'fire',\n",
              " 'bottle',\n",
              " 'my name is sherry',\n",
              " 'bottle',\n",
              " 'fire',\n",
              " 'my name is sherry',\n",
              " 'bottle',\n",
              " 'my name is sherry',\n",
              " 'my name is faraz',\n",
              " 'my name is sherry',\n",
              " 'my name is faraz',\n",
              " 'bottle',\n",
              " 'my name is esha',\n",
              " 'my name is sherry',\n",
              " 'my name is faraz',\n",
              " 'my name is sherry',\n",
              " 'my name is faraz',\n",
              " 'bottle',\n",
              " 'i am a university student',\n",
              " 'bottle',\n",
              " 'shop',\n",
              " 'bottle',\n",
              " 'my name is esha',\n",
              " 'i am a university student',\n",
              " 'my name is sherry',\n",
              " 'shop',\n",
              " 'i am a university student',\n",
              " 'my name is faraz',\n",
              " 'fire',\n",
              " 'fire',\n",
              " 'my name is faraz',\n",
              " 'bottle',\n",
              " 'bottle',\n",
              " 'bottle',\n",
              " 'my name is esha',\n",
              " 'my name is faraz',\n",
              " 'my name is faraz',\n",
              " 'shop',\n",
              " 'i am a university student',\n",
              " 'my name is esha',\n",
              " 'my name is esha',\n",
              " 'fire',\n",
              " 'shop',\n",
              " 'bottle',\n",
              " 'bottle',\n",
              " 'shop',\n",
              " 'shop',\n",
              " 'my name is faraz',\n",
              " 'i am a university student',\n",
              " 'shop',\n",
              " 'bottle',\n",
              " 'bottle',\n",
              " 'my name is sherry',\n",
              " 'my name is sherry',\n",
              " 'my name is faraz',\n",
              " 'my name is faraz',\n",
              " 'shop',\n",
              " 'my name is sherry',\n",
              " 'my name is sherry',\n",
              " 'my name is faraz',\n",
              " 'fire',\n",
              " 'my name is faraz',\n",
              " 'fire',\n",
              " 'my name is faraz',\n",
              " 'my name is faraz',\n",
              " 'shop',\n",
              " 'fire',\n",
              " 'i am a university student',\n",
              " 'bottle',\n",
              " 'bottle',\n",
              " 'my name is faraz',\n",
              " 'shop',\n",
              " 'i am a university student',\n",
              " 'shop',\n",
              " 'shop',\n",
              " 'i am a university student',\n",
              " 'shop',\n",
              " 'my name is faraz',\n",
              " 'my name is faraz',\n",
              " 'my name is faraz',\n",
              " 'shop',\n",
              " 'shop',\n",
              " 'my name is sherry',\n",
              " 'bottle',\n",
              " 'i am a university student',\n",
              " 'my name is faraz',\n",
              " 'fire',\n",
              " 'shop',\n",
              " 'bottle',\n",
              " 'my name is faraz',\n",
              " 'bottle',\n",
              " 'my name is esha',\n",
              " 'bottle']"
            ]
          },
          "metadata": {},
          "execution_count": 29
        }
      ]
    },
    {
      "cell_type": "code",
      "source": [
        "def output(location):\n",
        "    img=load_img(location,target_size=(224,224,3))\n",
        "    img=img_to_array(img)\n",
        "    img=img/255\n",
        "    img=np.expand_dims(img,[0])\n",
        "    answer=model.predict(img)\n",
        "    y_class = answer.argmax(axis=-1)\n",
        "    y = \" \".join(str(x) for x in y_class)\n",
        "    y = int(y)\n",
        "    res = labels[y]\n",
        "    return res"
      ],
      "metadata": {
        "id": "pwC1jFXVzJE1"
      },
      "execution_count": null,
      "outputs": []
    },
    {
      "cell_type": "code",
      "source": [
        "# Convert the model to TFLite format\n",
        "converter = tf.lite.TFLiteConverter.from_keras_model(model)\n",
        "tflite_model = converter.convert()\n",
        "\n",
        "# Save the TFLite model\n",
        "with open('/content/textual_model.tflite', 'wb') as f:\n",
        "    f.write(tflite_model)\n",
        "\n",
        "# Save the class labels to a text file\n",
        "with open('/content/textual_labels.txt', 'w') as f:\n",
        "    for label in labels.values():\n",
        "        f.write(f\"{label}\\n\")\n",
        "\n",
        "# Download the TFLite model\n",
        "from google.colab import files\n",
        "files.download('/content/textual_model.tflite')\n",
        "\n",
        "# Download the labels file\n",
        "files.download('/content/textual_labels.txt')"
      ],
      "metadata": {
        "colab": {
          "base_uri": "https://localhost:8080/",
          "height": 1000
        },
        "id": "YBTzrQ5lzSEF",
        "outputId": "26a58b6a-77c0-4b75-cfba-3398adfca15c"
      },
      "execution_count": null,
      "outputs": [
        {
          "output_type": "stream",
          "name": "stdout",
          "text": [
            "Saved artifact at '/tmp/tmpjc_83q5b'. The following endpoints are available:\n",
            "\n",
            "* Endpoint 'serve'\n",
            "  args_0 (POSITIONAL_ONLY): TensorSpec(shape=(None, 224, 224, 3), dtype=tf.float32, name='keras_tensor')\n",
            "Output Type:\n",
            "  TensorSpec(shape=(None, 7), dtype=tf.float32, name=None)\n",
            "Captures:\n",
            "  139352830664656: TensorSpec(shape=(), dtype=tf.resource, name=None)\n",
            "  139352830665616: TensorSpec(shape=(), dtype=tf.resource, name=None)\n",
            "  139352830667152: TensorSpec(shape=(), dtype=tf.resource, name=None)\n",
            "  139352830666768: TensorSpec(shape=(), dtype=tf.resource, name=None)\n",
            "  139352830665424: TensorSpec(shape=(), dtype=tf.resource, name=None)\n",
            "  139352830667344: TensorSpec(shape=(), dtype=tf.resource, name=None)\n",
            "  139352830666384: TensorSpec(shape=(), dtype=tf.resource, name=None)\n",
            "  139352830664272: TensorSpec(shape=(), dtype=tf.resource, name=None)\n",
            "  139352830667536: TensorSpec(shape=(), dtype=tf.resource, name=None)\n",
            "  139352830665232: TensorSpec(shape=(), dtype=tf.resource, name=None)\n",
            "  139352830667920: TensorSpec(shape=(), dtype=tf.resource, name=None)\n",
            "  139352830669456: TensorSpec(shape=(), dtype=tf.resource, name=None)\n",
            "  139352830666192: TensorSpec(shape=(), dtype=tf.resource, name=None)\n",
            "  139352830666000: TensorSpec(shape=(), dtype=tf.resource, name=None)\n",
            "  139352830668496: TensorSpec(shape=(), dtype=tf.resource, name=None)\n",
            "  139352830671376: TensorSpec(shape=(), dtype=tf.resource, name=None)\n",
            "  139352662589904: TensorSpec(shape=(), dtype=tf.resource, name=None)\n",
            "  139352662590480: TensorSpec(shape=(), dtype=tf.resource, name=None)\n",
            "  139352830672336: TensorSpec(shape=(), dtype=tf.resource, name=None)\n",
            "  139352830671952: TensorSpec(shape=(), dtype=tf.resource, name=None)\n",
            "  139352662591440: TensorSpec(shape=(), dtype=tf.resource, name=None)\n",
            "  139352662591056: TensorSpec(shape=(), dtype=tf.resource, name=None)\n",
            "  139352662589712: TensorSpec(shape=(), dtype=tf.resource, name=None)\n",
            "  139352662591632: TensorSpec(shape=(), dtype=tf.resource, name=None)\n",
            "  139352662590096: TensorSpec(shape=(), dtype=tf.resource, name=None)\n",
            "  139352662593744: TensorSpec(shape=(), dtype=tf.resource, name=None)\n",
            "  139352662594128: TensorSpec(shape=(), dtype=tf.resource, name=None)\n",
            "  139352662594512: TensorSpec(shape=(), dtype=tf.resource, name=None)\n",
            "  139352662594320: TensorSpec(shape=(), dtype=tf.resource, name=None)\n",
            "  139352662590288: TensorSpec(shape=(), dtype=tf.resource, name=None)\n",
            "  139352662595664: TensorSpec(shape=(), dtype=tf.resource, name=None)\n",
            "  139352662596048: TensorSpec(shape=(), dtype=tf.resource, name=None)\n",
            "  139352662596432: TensorSpec(shape=(), dtype=tf.resource, name=None)\n",
            "  139352662596240: TensorSpec(shape=(), dtype=tf.resource, name=None)\n",
            "  139352662592592: TensorSpec(shape=(), dtype=tf.resource, name=None)\n",
            "  139352662597584: TensorSpec(shape=(), dtype=tf.resource, name=None)\n",
            "  139352662597968: TensorSpec(shape=(), dtype=tf.resource, name=None)\n",
            "  139352662598352: TensorSpec(shape=(), dtype=tf.resource, name=None)\n",
            "  139352662598160: TensorSpec(shape=(), dtype=tf.resource, name=None)\n",
            "  139352662593360: TensorSpec(shape=(), dtype=tf.resource, name=None)\n",
            "  139352662595280: TensorSpec(shape=(), dtype=tf.resource, name=None)\n",
            "  139352662600080: TensorSpec(shape=(), dtype=tf.resource, name=None)\n",
            "  139352662600464: TensorSpec(shape=(), dtype=tf.resource, name=None)\n",
            "  139352662600272: TensorSpec(shape=(), dtype=tf.resource, name=None)\n",
            "  139352662596816: TensorSpec(shape=(), dtype=tf.resource, name=None)\n",
            "  139352662599120: TensorSpec(shape=(), dtype=tf.resource, name=None)\n",
            "  139352662602192: TensorSpec(shape=(), dtype=tf.resource, name=None)\n",
            "  139352662602576: TensorSpec(shape=(), dtype=tf.resource, name=None)\n",
            "  139352662602384: TensorSpec(shape=(), dtype=tf.resource, name=None)\n",
            "  139352662599504: TensorSpec(shape=(), dtype=tf.resource, name=None)\n",
            "  139352662603728: TensorSpec(shape=(), dtype=tf.resource, name=None)\n",
            "  139352662604112: TensorSpec(shape=(), dtype=tf.resource, name=None)\n",
            "  139352662604496: TensorSpec(shape=(), dtype=tf.resource, name=None)\n",
            "  139352662604304: TensorSpec(shape=(), dtype=tf.resource, name=None)\n",
            "  139352662601232: TensorSpec(shape=(), dtype=tf.resource, name=None)\n",
            "  139352662605648: TensorSpec(shape=(), dtype=tf.resource, name=None)\n",
            "  139352662601808: TensorSpec(shape=(), dtype=tf.resource, name=None)\n",
            "  139352662982736: TensorSpec(shape=(), dtype=tf.resource, name=None)\n",
            "  139352662605264: TensorSpec(shape=(), dtype=tf.resource, name=None)\n",
            "  139352662603344: TensorSpec(shape=(), dtype=tf.resource, name=None)\n",
            "  139352662984464: TensorSpec(shape=(), dtype=tf.resource, name=None)\n",
            "  139352662984848: TensorSpec(shape=(), dtype=tf.resource, name=None)\n",
            "  139352662985232: TensorSpec(shape=(), dtype=tf.resource, name=None)\n",
            "  139352662985040: TensorSpec(shape=(), dtype=tf.resource, name=None)\n",
            "  139352662983696: TensorSpec(shape=(), dtype=tf.resource, name=None)\n",
            "  139352662986384: TensorSpec(shape=(), dtype=tf.resource, name=None)\n",
            "  139352662986768: TensorSpec(shape=(), dtype=tf.resource, name=None)\n",
            "  139352662987152: TensorSpec(shape=(), dtype=tf.resource, name=None)\n",
            "  139352662986960: TensorSpec(shape=(), dtype=tf.resource, name=None)\n",
            "  139352662983120: TensorSpec(shape=(), dtype=tf.resource, name=None)\n",
            "  139352662988304: TensorSpec(shape=(), dtype=tf.resource, name=None)\n",
            "  139352662988688: TensorSpec(shape=(), dtype=tf.resource, name=None)\n",
            "  139352662989072: TensorSpec(shape=(), dtype=tf.resource, name=None)\n",
            "  139352662988880: TensorSpec(shape=(), dtype=tf.resource, name=None)\n",
            "  139352662984080: TensorSpec(shape=(), dtype=tf.resource, name=None)\n",
            "  139352662990224: TensorSpec(shape=(), dtype=tf.resource, name=None)\n",
            "  139352662990608: TensorSpec(shape=(), dtype=tf.resource, name=None)\n",
            "  139352662990992: TensorSpec(shape=(), dtype=tf.resource, name=None)\n",
            "  139352662990800: TensorSpec(shape=(), dtype=tf.resource, name=None)\n",
            "  139352662986000: TensorSpec(shape=(), dtype=tf.resource, name=None)\n",
            "  139352662992144: TensorSpec(shape=(), dtype=tf.resource, name=None)\n",
            "  139352662992528: TensorSpec(shape=(), dtype=tf.resource, name=None)\n",
            "  139352662992912: TensorSpec(shape=(), dtype=tf.resource, name=None)\n",
            "  139352662992720: TensorSpec(shape=(), dtype=tf.resource, name=None)\n",
            "  139352662987920: TensorSpec(shape=(), dtype=tf.resource, name=None)\n",
            "  139352662994064: TensorSpec(shape=(), dtype=tf.resource, name=None)\n",
            "  139352662994448: TensorSpec(shape=(), dtype=tf.resource, name=None)\n",
            "  139352662994832: TensorSpec(shape=(), dtype=tf.resource, name=None)\n",
            "  139352662994640: TensorSpec(shape=(), dtype=tf.resource, name=None)\n",
            "  139352662989840: TensorSpec(shape=(), dtype=tf.resource, name=None)\n",
            "  139352662995984: TensorSpec(shape=(), dtype=tf.resource, name=None)\n",
            "  139352662996368: TensorSpec(shape=(), dtype=tf.resource, name=None)\n",
            "  139352662996752: TensorSpec(shape=(), dtype=tf.resource, name=None)\n",
            "  139352662996560: TensorSpec(shape=(), dtype=tf.resource, name=None)\n",
            "  139352662991760: TensorSpec(shape=(), dtype=tf.resource, name=None)\n",
            "  139352662997904: TensorSpec(shape=(), dtype=tf.resource, name=None)\n",
            "  139352662997520: TensorSpec(shape=(), dtype=tf.resource, name=None)\n",
            "  139352662995600: TensorSpec(shape=(), dtype=tf.resource, name=None)\n",
            "  139352662998480: TensorSpec(shape=(), dtype=tf.resource, name=None)\n",
            "  139352662993680: TensorSpec(shape=(), dtype=tf.resource, name=None)\n",
            "  139352662997136: TensorSpec(shape=(), dtype=tf.resource, name=None)\n",
            "  139352635098320: TensorSpec(shape=(), dtype=tf.resource, name=None)\n",
            "  139352635097168: TensorSpec(shape=(), dtype=tf.resource, name=None)\n",
            "  139352635098512: TensorSpec(shape=(), dtype=tf.resource, name=None)\n",
            "  139352635097360: TensorSpec(shape=(), dtype=tf.resource, name=None)\n",
            "  139352635099856: TensorSpec(shape=(), dtype=tf.resource, name=None)\n",
            "  139352635100240: TensorSpec(shape=(), dtype=tf.resource, name=None)\n",
            "  139352635100624: TensorSpec(shape=(), dtype=tf.resource, name=None)\n",
            "  139352635100432: TensorSpec(shape=(), dtype=tf.resource, name=None)\n",
            "  139352635098704: TensorSpec(shape=(), dtype=tf.resource, name=None)\n",
            "  139352635101776: TensorSpec(shape=(), dtype=tf.resource, name=None)\n",
            "  139352635102160: TensorSpec(shape=(), dtype=tf.resource, name=None)\n",
            "  139352635102544: TensorSpec(shape=(), dtype=tf.resource, name=None)\n",
            "  139352635102352: TensorSpec(shape=(), dtype=tf.resource, name=None)\n",
            "  139352635097936: TensorSpec(shape=(), dtype=tf.resource, name=None)\n",
            "  139352635103696: TensorSpec(shape=(), dtype=tf.resource, name=None)\n",
            "  139352635104080: TensorSpec(shape=(), dtype=tf.resource, name=None)\n",
            "  139352635104464: TensorSpec(shape=(), dtype=tf.resource, name=None)\n",
            "  139352635104272: TensorSpec(shape=(), dtype=tf.resource, name=None)\n",
            "  139352635099472: TensorSpec(shape=(), dtype=tf.resource, name=None)\n",
            "  139352635105616: TensorSpec(shape=(), dtype=tf.resource, name=None)\n",
            "  139352635106000: TensorSpec(shape=(), dtype=tf.resource, name=None)\n",
            "  139352635106384: TensorSpec(shape=(), dtype=tf.resource, name=None)\n",
            "  139352635106192: TensorSpec(shape=(), dtype=tf.resource, name=None)\n",
            "  139352635101392: TensorSpec(shape=(), dtype=tf.resource, name=None)\n",
            "  139352635107536: TensorSpec(shape=(), dtype=tf.resource, name=None)\n",
            "  139352635107920: TensorSpec(shape=(), dtype=tf.resource, name=None)\n",
            "  139352635108304: TensorSpec(shape=(), dtype=tf.resource, name=None)\n",
            "  139352635108112: TensorSpec(shape=(), dtype=tf.resource, name=None)\n",
            "  139352635103312: TensorSpec(shape=(), dtype=tf.resource, name=None)\n",
            "  139352635109456: TensorSpec(shape=(), dtype=tf.resource, name=None)\n",
            "  139352635109840: TensorSpec(shape=(), dtype=tf.resource, name=None)\n",
            "  139352635110224: TensorSpec(shape=(), dtype=tf.resource, name=None)\n",
            "  139352635110032: TensorSpec(shape=(), dtype=tf.resource, name=None)\n",
            "  139352635105232: TensorSpec(shape=(), dtype=tf.resource, name=None)\n",
            "  139352635111376: TensorSpec(shape=(), dtype=tf.resource, name=None)\n",
            "  139352635111760: TensorSpec(shape=(), dtype=tf.resource, name=None)\n",
            "  139352635112144: TensorSpec(shape=(), dtype=tf.resource, name=None)\n",
            "  139352635111952: TensorSpec(shape=(), dtype=tf.resource, name=None)\n",
            "  139352635107152: TensorSpec(shape=(), dtype=tf.resource, name=None)\n",
            "  139352635113296: TensorSpec(shape=(), dtype=tf.resource, name=None)\n",
            "  139352635109072: TensorSpec(shape=(), dtype=tf.resource, name=None)\n",
            "  139352635458192: TensorSpec(shape=(), dtype=tf.resource, name=None)\n",
            "  139352635112912: TensorSpec(shape=(), dtype=tf.resource, name=None)\n",
            "  139352635110992: TensorSpec(shape=(), dtype=tf.resource, name=None)\n",
            "  139352635459344: TensorSpec(shape=(), dtype=tf.resource, name=None)\n",
            "  139352635459728: TensorSpec(shape=(), dtype=tf.resource, name=None)\n",
            "  139352635460112: TensorSpec(shape=(), dtype=tf.resource, name=None)\n",
            "  139352635459920: TensorSpec(shape=(), dtype=tf.resource, name=None)\n",
            "  139352635458576: TensorSpec(shape=(), dtype=tf.resource, name=None)\n",
            "  139352635461264: TensorSpec(shape=(), dtype=tf.resource, name=None)\n",
            "  139352635461648: TensorSpec(shape=(), dtype=tf.resource, name=None)\n",
            "  139352635462032: TensorSpec(shape=(), dtype=tf.resource, name=None)\n",
            "  139352635461840: TensorSpec(shape=(), dtype=tf.resource, name=None)\n",
            "  139352635457808: TensorSpec(shape=(), dtype=tf.resource, name=None)\n",
            "  139352635463184: TensorSpec(shape=(), dtype=tf.resource, name=None)\n",
            "  139352635463568: TensorSpec(shape=(), dtype=tf.resource, name=None)\n",
            "  139352635463952: TensorSpec(shape=(), dtype=tf.resource, name=None)\n",
            "  139352635463760: TensorSpec(shape=(), dtype=tf.resource, name=None)\n",
            "  139352635458960: TensorSpec(shape=(), dtype=tf.resource, name=None)\n",
            "  139352635465104: TensorSpec(shape=(), dtype=tf.resource, name=None)\n",
            "  139352635465488: TensorSpec(shape=(), dtype=tf.resource, name=None)\n",
            "  139352635465872: TensorSpec(shape=(), dtype=tf.resource, name=None)\n",
            "  139352635465680: TensorSpec(shape=(), dtype=tf.resource, name=None)\n",
            "  139352635460880: TensorSpec(shape=(), dtype=tf.resource, name=None)\n",
            "  139352635467024: TensorSpec(shape=(), dtype=tf.resource, name=None)\n",
            "  139352635467408: TensorSpec(shape=(), dtype=tf.resource, name=None)\n",
            "  139352635467792: TensorSpec(shape=(), dtype=tf.resource, name=None)\n",
            "  139352635467600: TensorSpec(shape=(), dtype=tf.resource, name=None)\n",
            "  139352635462800: TensorSpec(shape=(), dtype=tf.resource, name=None)\n",
            "  139352635470096: TensorSpec(shape=(), dtype=tf.resource, name=None)\n",
            "  139352635471440: TensorSpec(shape=(), dtype=tf.resource, name=None)\n",
            "  139352635458000: TensorSpec(shape=(), dtype=tf.resource, name=None)\n",
            "  139352635468944: TensorSpec(shape=(), dtype=tf.resource, name=None)\n",
            "  139352635468176: TensorSpec(shape=(), dtype=tf.resource, name=None)\n",
            "  139352635471248: TensorSpec(shape=(), dtype=tf.resource, name=None)\n",
            "  139352635470864: TensorSpec(shape=(), dtype=tf.resource, name=None)\n",
            "  139352635469904: TensorSpec(shape=(), dtype=tf.resource, name=None)\n",
            "  139352635470672: TensorSpec(shape=(), dtype=tf.resource, name=None)\n",
            "  139352635466640: TensorSpec(shape=(), dtype=tf.resource, name=None)\n",
            "  139352635472784: TensorSpec(shape=(), dtype=tf.resource, name=None)\n",
            "  139352635472400: TensorSpec(shape=(), dtype=tf.resource, name=None)\n",
            "  139352635469136: TensorSpec(shape=(), dtype=tf.resource, name=None)\n",
            "  139352635473360: TensorSpec(shape=(), dtype=tf.resource, name=None)\n",
            "  139352635471824: TensorSpec(shape=(), dtype=tf.resource, name=None)\n",
            "  139352635472016: TensorSpec(shape=(), dtype=tf.resource, name=None)\n",
            "  139352635884752: TensorSpec(shape=(), dtype=tf.resource, name=None)\n",
            "  139352635883792: TensorSpec(shape=(), dtype=tf.resource, name=None)\n",
            "  139352635884560: TensorSpec(shape=(), dtype=tf.resource, name=None)\n",
            "  139352635883600: TensorSpec(shape=(), dtype=tf.resource, name=None)\n",
            "  139352635886288: TensorSpec(shape=(), dtype=tf.resource, name=None)\n",
            "  139352635886672: TensorSpec(shape=(), dtype=tf.resource, name=None)\n",
            "  139352635887056: TensorSpec(shape=(), dtype=tf.resource, name=None)\n",
            "  139352635886864: TensorSpec(shape=(), dtype=tf.resource, name=None)\n",
            "  139352635883984: TensorSpec(shape=(), dtype=tf.resource, name=None)\n",
            "  139352635888208: TensorSpec(shape=(), dtype=tf.resource, name=None)\n",
            "  139352635888592: TensorSpec(shape=(), dtype=tf.resource, name=None)\n",
            "  139352635888976: TensorSpec(shape=(), dtype=tf.resource, name=None)\n",
            "  139352635888784: TensorSpec(shape=(), dtype=tf.resource, name=None)\n",
            "  139352635885136: TensorSpec(shape=(), dtype=tf.resource, name=None)\n",
            "  139352635890128: TensorSpec(shape=(), dtype=tf.resource, name=None)\n",
            "  139352635890512: TensorSpec(shape=(), dtype=tf.resource, name=None)\n",
            "  139352635890896: TensorSpec(shape=(), dtype=tf.resource, name=None)\n",
            "  139352635890704: TensorSpec(shape=(), dtype=tf.resource, name=None)\n",
            "  139352635885904: TensorSpec(shape=(), dtype=tf.resource, name=None)\n",
            "  139352635892048: TensorSpec(shape=(), dtype=tf.resource, name=None)\n",
            "  139352635892432: TensorSpec(shape=(), dtype=tf.resource, name=None)\n",
            "  139352635892816: TensorSpec(shape=(), dtype=tf.resource, name=None)\n",
            "  139352635892624: TensorSpec(shape=(), dtype=tf.resource, name=None)\n",
            "  139352635887824: TensorSpec(shape=(), dtype=tf.resource, name=None)\n",
            "  139352635893968: TensorSpec(shape=(), dtype=tf.resource, name=None)\n",
            "  139352635894352: TensorSpec(shape=(), dtype=tf.resource, name=None)\n",
            "  139352635894736: TensorSpec(shape=(), dtype=tf.resource, name=None)\n",
            "  139352635894544: TensorSpec(shape=(), dtype=tf.resource, name=None)\n",
            "  139352635889744: TensorSpec(shape=(), dtype=tf.resource, name=None)\n",
            "  139352635895888: TensorSpec(shape=(), dtype=tf.resource, name=None)\n",
            "  139352635896272: TensorSpec(shape=(), dtype=tf.resource, name=None)\n",
            "  139352635896656: TensorSpec(shape=(), dtype=tf.resource, name=None)\n",
            "  139352635896464: TensorSpec(shape=(), dtype=tf.resource, name=None)\n",
            "  139352635891664: TensorSpec(shape=(), dtype=tf.resource, name=None)\n",
            "  139352635897808: TensorSpec(shape=(), dtype=tf.resource, name=None)\n",
            "  139352635898192: TensorSpec(shape=(), dtype=tf.resource, name=None)\n",
            "  139352635898576: TensorSpec(shape=(), dtype=tf.resource, name=None)\n",
            "  139352635898384: TensorSpec(shape=(), dtype=tf.resource, name=None)\n",
            "  139352635893584: TensorSpec(shape=(), dtype=tf.resource, name=None)\n",
            "  139352635899728: TensorSpec(shape=(), dtype=tf.resource, name=None)\n",
            "  139352635895504: TensorSpec(shape=(), dtype=tf.resource, name=None)\n",
            "  139352634179856: TensorSpec(shape=(), dtype=tf.resource, name=None)\n",
            "  139352635899344: TensorSpec(shape=(), dtype=tf.resource, name=None)\n",
            "  139352635897424: TensorSpec(shape=(), dtype=tf.resource, name=None)\n",
            "  139352634181392: TensorSpec(shape=(), dtype=tf.resource, name=None)\n",
            "  139352634181776: TensorSpec(shape=(), dtype=tf.resource, name=None)\n",
            "  139352634182160: TensorSpec(shape=(), dtype=tf.resource, name=None)\n",
            "  139352634181968: TensorSpec(shape=(), dtype=tf.resource, name=None)\n",
            "  139352634180048: TensorSpec(shape=(), dtype=tf.resource, name=None)\n",
            "  139352634183312: TensorSpec(shape=(), dtype=tf.resource, name=None)\n",
            "  139352634183696: TensorSpec(shape=(), dtype=tf.resource, name=None)\n",
            "  139352634184080: TensorSpec(shape=(), dtype=tf.resource, name=None)\n",
            "  139352634183888: TensorSpec(shape=(), dtype=tf.resource, name=None)\n",
            "  139352634180624: TensorSpec(shape=(), dtype=tf.resource, name=None)\n",
            "  139352634185232: TensorSpec(shape=(), dtype=tf.resource, name=None)\n",
            "  139352634185616: TensorSpec(shape=(), dtype=tf.resource, name=None)\n",
            "  139352634186000: TensorSpec(shape=(), dtype=tf.resource, name=None)\n",
            "  139352634185808: TensorSpec(shape=(), dtype=tf.resource, name=None)\n",
            "  139352634181008: TensorSpec(shape=(), dtype=tf.resource, name=None)\n",
            "  139352634187152: TensorSpec(shape=(), dtype=tf.resource, name=None)\n",
            "  139352634187536: TensorSpec(shape=(), dtype=tf.resource, name=None)\n",
            "  139352634187920: TensorSpec(shape=(), dtype=tf.resource, name=None)\n",
            "  139352634187728: TensorSpec(shape=(), dtype=tf.resource, name=None)\n",
            "  139352634182928: TensorSpec(shape=(), dtype=tf.resource, name=None)\n",
            "  139352634189072: TensorSpec(shape=(), dtype=tf.resource, name=None)\n",
            "  139352634189456: TensorSpec(shape=(), dtype=tf.resource, name=None)\n",
            "  139352634189840: TensorSpec(shape=(), dtype=tf.resource, name=None)\n",
            "  139352634189648: TensorSpec(shape=(), dtype=tf.resource, name=None)\n",
            "  139352634184848: TensorSpec(shape=(), dtype=tf.resource, name=None)\n",
            "  139352634190992: TensorSpec(shape=(), dtype=tf.resource, name=None)\n",
            "  139352634191376: TensorSpec(shape=(), dtype=tf.resource, name=None)\n",
            "  139352634191760: TensorSpec(shape=(), dtype=tf.resource, name=None)\n",
            "  139352634191568: TensorSpec(shape=(), dtype=tf.resource, name=None)\n",
            "  139352634186768: TensorSpec(shape=(), dtype=tf.resource, name=None)\n",
            "  139352634190608: TensorSpec(shape=(), dtype=tf.resource, name=None)\n",
            "  139352634194640: TensorSpec(shape=(), dtype=tf.resource, name=None)\n",
            "  139352634193872: TensorSpec(shape=(), dtype=tf.resource, name=None)\n",
            "  139352634195600: TensorSpec(shape=(), dtype=tf.resource, name=None)\n",
            "  139352634195792: TensorSpec(shape=(), dtype=tf.resource, name=None)\n",
            "  139352634194448: TensorSpec(shape=(), dtype=tf.resource, name=None)\n"
          ]
        },
        {
          "output_type": "display_data",
          "data": {
            "text/plain": [
              "<IPython.core.display.Javascript object>"
            ],
            "application/javascript": [
              "\n",
              "    async function download(id, filename, size) {\n",
              "      if (!google.colab.kernel.accessAllowed) {\n",
              "        return;\n",
              "      }\n",
              "      const div = document.createElement('div');\n",
              "      const label = document.createElement('label');\n",
              "      label.textContent = `Downloading \"${filename}\": `;\n",
              "      div.appendChild(label);\n",
              "      const progress = document.createElement('progress');\n",
              "      progress.max = size;\n",
              "      div.appendChild(progress);\n",
              "      document.body.appendChild(div);\n",
              "\n",
              "      const buffers = [];\n",
              "      let downloaded = 0;\n",
              "\n",
              "      const channel = await google.colab.kernel.comms.open(id);\n",
              "      // Send a message to notify the kernel that we're ready.\n",
              "      channel.send({})\n",
              "\n",
              "      for await (const message of channel.messages) {\n",
              "        // Send a message to notify the kernel that we're ready.\n",
              "        channel.send({})\n",
              "        if (message.buffers) {\n",
              "          for (const buffer of message.buffers) {\n",
              "            buffers.push(buffer);\n",
              "            downloaded += buffer.byteLength;\n",
              "            progress.value = downloaded;\n",
              "          }\n",
              "        }\n",
              "      }\n",
              "      const blob = new Blob(buffers, {type: 'application/binary'});\n",
              "      const a = document.createElement('a');\n",
              "      a.href = window.URL.createObjectURL(blob);\n",
              "      a.download = filename;\n",
              "      div.appendChild(a);\n",
              "      a.click();\n",
              "      div.remove();\n",
              "    }\n",
              "  "
            ]
          },
          "metadata": {}
        },
        {
          "output_type": "display_data",
          "data": {
            "text/plain": [
              "<IPython.core.display.Javascript object>"
            ],
            "application/javascript": [
              "download(\"download_46b0c46a-f149-45c9-9074-c6663b1380ea\", \"textual_model.tflite\", 12547848)"
            ]
          },
          "metadata": {}
        },
        {
          "output_type": "display_data",
          "data": {
            "text/plain": [
              "<IPython.core.display.Javascript object>"
            ],
            "application/javascript": [
              "\n",
              "    async function download(id, filename, size) {\n",
              "      if (!google.colab.kernel.accessAllowed) {\n",
              "        return;\n",
              "      }\n",
              "      const div = document.createElement('div');\n",
              "      const label = document.createElement('label');\n",
              "      label.textContent = `Downloading \"${filename}\": `;\n",
              "      div.appendChild(label);\n",
              "      const progress = document.createElement('progress');\n",
              "      progress.max = size;\n",
              "      div.appendChild(progress);\n",
              "      document.body.appendChild(div);\n",
              "\n",
              "      const buffers = [];\n",
              "      let downloaded = 0;\n",
              "\n",
              "      const channel = await google.colab.kernel.comms.open(id);\n",
              "      // Send a message to notify the kernel that we're ready.\n",
              "      channel.send({})\n",
              "\n",
              "      for await (const message of channel.messages) {\n",
              "        // Send a message to notify the kernel that we're ready.\n",
              "        channel.send({})\n",
              "        if (message.buffers) {\n",
              "          for (const buffer of message.buffers) {\n",
              "            buffers.push(buffer);\n",
              "            downloaded += buffer.byteLength;\n",
              "            progress.value = downloaded;\n",
              "          }\n",
              "        }\n",
              "      }\n",
              "      const blob = new Blob(buffers, {type: 'application/binary'});\n",
              "      const a = document.createElement('a');\n",
              "      a.href = window.URL.createObjectURL(blob);\n",
              "      a.download = filename;\n",
              "      div.appendChild(a);\n",
              "      a.click();\n",
              "      div.remove();\n",
              "    }\n",
              "  "
            ]
          },
          "metadata": {}
        },
        {
          "output_type": "display_data",
          "data": {
            "text/plain": [
              "<IPython.core.display.Javascript object>"
            ],
            "application/javascript": [
              "download(\"download_ab84f59f-4004-46b4-b37a-0863dec5e932\", \"textual_labels.txt\", 94)"
            ]
          },
          "metadata": {}
        }
      ]
    },
    {
      "cell_type": "code",
      "source": [
        "img = output('/content/drive/MyDrive/textualdataset/test/i am a university student/IMG-20250127-WA0003_jpg.rf.06781546e7288fd9979f07bdd859ecfa - Copy (3).jpg')\n",
        "print(img)"
      ],
      "metadata": {
        "colab": {
          "base_uri": "https://localhost:8080/"
        },
        "id": "7b5bgD0dz_N2",
        "outputId": "ccb23ddd-404f-4237-8174-edd232886ba8"
      },
      "execution_count": null,
      "outputs": [
        {
          "output_type": "stream",
          "name": "stdout",
          "text": [
            "\u001b[1m1/1\u001b[0m \u001b[32m━━━━━━━━━━━━━━━━━━━━\u001b[0m\u001b[37m\u001b[0m \u001b[1m0s\u001b[0m 35ms/step\n",
            "i am a university student\n"
          ]
        }
      ]
    }
  ]
}